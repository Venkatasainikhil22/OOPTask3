{
  "nbformat": 4,
  "nbformat_minor": 0,
  "metadata": {
    "colab": {
      "name": "OOPTask3",
      "provenance": [],
      "collapsed_sections": [],
      "authorship_tag": "ABX9TyPZYV3MGfAoz4pw/qs20yKM",
      "include_colab_link": true
    },
    "kernelspec": {
      "name": "python3",
      "display_name": "Python 3"
    },
    "language_info": {
      "name": "python"
    }
  },
  "cells": [
    {
      "cell_type": "markdown",
      "metadata": {
        "id": "view-in-github",
        "colab_type": "text"
      },
      "source": [
        "<a href=\"https://colab.research.google.com/github/Venkatasainikhil22/OOPTask3/blob/main/OOPTask3.ipynb\" target=\"_parent\"><img src=\"https://colab.research.google.com/assets/colab-badge.svg\" alt=\"Open In Colab\"/></a>"
      ]
    },
    {
      "cell_type": "code",
      "metadata": {
        "colab": {
          "base_uri": "https://localhost:8080/",
          "height": 0
        },
        "id": "oPvudmHydACR",
        "outputId": "bb15469e-793f-4500-a181-8014343deaf4"
      },
      "source": [
        "class Student:\n",
        "  def __init__(self, Name, Reg_No, Age, Gender, Branch, Sem,):\n",
        "    self.Name = Name\n",
        "    self.Reg_No = Reg_No\n",
        "    self.Age = Age\n",
        "    self.Gender = Gender\n",
        "    self.Branch = Branch\n",
        "    self.Sem = Sem\n",
        "\n",
        "class StudentResultInfo(Student):\n",
        "  def __init__(self, Name, Reg_No, Age, Gender, Branch, Sem, Total_Marks, Percentage, Grade):\n",
        "    Student.__init__(self, Name, Reg_No, Age, Gender, Branch, Sem)\n",
        "    self.Total_Marks = Total_Marks\n",
        "    self.Percentage = Percentage\n",
        "    self.Grade = Grade\n",
        "     \n",
        "  def disp(self):\n",
        "    print(\"Name:\", self.Name)\n",
        "    print(\"Reg_No:\", self.Reg_No)\n",
        "    print(\"Age:\", self.Age)\n",
        "    print(\"Gender:\", self.Gender)\n",
        "    print(\"Branch:\", self.Branch)\n",
        "    print(\"Sem:\", self.Sem)\n",
        "    print(\"Total_Marks:\", self.Total_Marks)\n",
        "    print(\"percentage:\", self.Percentage)\n",
        "    print(\"Grade:\", self.Grade)\n",
        "  \n",
        "S1 = StudentResultInfo(\"Nikhil\", \"20BCS135\", 18, \"Male\", \"CSE\", 3, 100, 85, 8.5)\n",
        "S1.disp()"
      ],
      "execution_count": 1,
      "outputs": [
        {
          "output_type": "stream",
          "name": "stdout",
          "text": [
            "Name: Nikhil\n",
            "Reg_No: 20BCS135\n",
            "Age: 18\n",
            "Gender: Male\n",
            "Branch: CSE\n",
            "Sem: 3\n",
            "Total_Marks: 100\n",
            "percentage: 85\n",
            "Grade: 8.5\n"
          ]
        }
      ]
    },
    {
      "cell_type": "code",
      "metadata": {
        "colab": {
          "base_uri": "https://localhost:8080/",
          "height": 0
        },
        "id": "qt-Tocp6fm4s",
        "outputId": "aff7d9e3-1a8b-40e7-81ed-9e6aba8c04fd"
      },
      "source": [
        "class PDF:\n",
        "  def __init__(self, creator, description, size):\n",
        "    self.creator = creator\n",
        "    self.description = description\n",
        "    self.size = size\n",
        "\n",
        "  def displayInfo(self):\n",
        "    print(\"Enter owner name: \",self.creator)\n",
        "    print(\"Description of the PDF file: \", self.description)\n",
        "    print(\"File size in (KB):\", self.size)\n",
        "\n",
        "  def sizeLimit(self):\n",
        "    if self.size > 10000:\n",
        "      print(\"Size exceeds threshold.\\n\")\n",
        "    else:\n",
        "      print(\"Size is within the threshold.\\n\")\n",
        "\n",
        "class Image(PDF):\n",
        "  def __init__(self, creator, description, size, dimension):\n",
        "    super().__init__(creator, description, size)\n",
        "    self.dimension = dimension\n",
        "\n",
        "  def displayImageInfo(self):\n",
        "    self.displayInfo()\n",
        "    print(\"Dimensions (in pixels):\", self.dimension)\n",
        "\n",
        "  def dimensionLimit(self):\n",
        "    if self.dimension>2000:\n",
        "      print(\"dimension are high\\n\")\n",
        "    else:\n",
        "      print(\" dimensions are fine.\\n\")\n",
        "      \n",
        "pdf1 = PDF(\"ABC\", \"OOP assignment\", 5000)\n",
        "pdf1.displayInfo()\n",
        "pdf1.sizeLimit()\n",
        "img = Image(\"XYZ\", \"Sunrise\", 4000, 3216 )\n",
        "img.displayImageInfo()\n",
        "img.dimensionLimit()"
      ],
      "execution_count": 13,
      "outputs": [
        {
          "output_type": "stream",
          "name": "stdout",
          "text": [
            "Enter owner name:  ABC\n",
            "Description of the PDF file:  OOP assignment\n",
            "File size in (KB): 5000\n",
            "Size is within the threshold.\n",
            "\n",
            "Enter owner name:  XYZ\n",
            "Description of the PDF file:  Sunrise\n",
            "File size in (KB): 4000\n",
            "Dimensions (in pixels): 3216\n",
            "dimension are high\n",
            "\n"
          ]
        }
      ]
    },
    {
      "cell_type": "code",
      "metadata": {
        "colab": {
          "base_uri": "https://localhost:8080/",
          "height": 0
        },
        "id": "wv8ffkWkqCOl",
        "outputId": "5ed4918a-13eb-42fe-fd4d-95f1bb1a8c54"
      },
      "source": [
        "class Vehicle:\n",
        "    def __init__(self, name, mileage, capacity):\n",
        "        self.name = name\n",
        "        self.mileage = mileage\n",
        "        self.capacity = capacity\n",
        "\n",
        "    def fare(self):\n",
        "        return self.capacity * 100\n",
        "\n",
        "class Bus(Vehicle):\n",
        "    \n",
        "    def fare(self):\n",
        "        fare_bus = self.capacity * 100 \n",
        "        total_fare = fare_bus + (0.1 *fare_bus)\n",
        "        return total_fare\n",
        "\n",
        "School_bus = Bus(\"Tata SUV\", 20, 50)\n",
        "print(\"Total fare for the bus is:\", School_bus.fare())"
      ],
      "execution_count": 14,
      "outputs": [
        {
          "output_type": "stream",
          "name": "stdout",
          "text": [
            "Total fare for the bus is: 5500.0\n"
          ]
        }
      ]
    }
  ]
}